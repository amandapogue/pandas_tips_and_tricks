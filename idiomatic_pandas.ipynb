{
 "cells": [
  {
   "cell_type": "markdown",
   "metadata": {},
   "source": [
    "# Idiomatic Pandas"
   ]
  },
  {
   "cell_type": "code",
   "execution_count": 1,
   "metadata": {},
   "outputs": [],
   "source": [
    "import pandas as pd\n",
    "import numpy as np"
   ]
  },
  {
   "cell_type": "markdown",
   "metadata": {},
   "source": [
    "## Use case 1: modify dataframe content"
   ]
  },
  {
   "cell_type": "markdown",
   "metadata": {},
   "source": [
    "Create gender data."
   ]
  },
  {
   "cell_type": "code",
   "execution_count": 2,
   "metadata": {},
   "outputs": [
    {
     "data": {
      "text/html": [
       "<div>\n",
       "<style scoped>\n",
       "    .dataframe tbody tr th:only-of-type {\n",
       "        vertical-align: middle;\n",
       "    }\n",
       "\n",
       "    .dataframe tbody tr th {\n",
       "        vertical-align: top;\n",
       "    }\n",
       "\n",
       "    .dataframe thead th {\n",
       "        text-align: right;\n",
       "    }\n",
       "</style>\n",
       "<table border=\"1\" class=\"dataframe\">\n",
       "  <thead>\n",
       "    <tr style=\"text-align: right;\">\n",
       "      <th></th>\n",
       "      <th>Gender</th>\n",
       "    </tr>\n",
       "  </thead>\n",
       "  <tbody>\n",
       "    <tr>\n",
       "      <th>0</th>\n",
       "      <td>F</td>\n",
       "    </tr>\n",
       "    <tr>\n",
       "      <th>1</th>\n",
       "      <td>M</td>\n",
       "    </tr>\n",
       "    <tr>\n",
       "      <th>2</th>\n",
       "      <td>F</td>\n",
       "    </tr>\n",
       "    <tr>\n",
       "      <th>3</th>\n",
       "      <td>M</td>\n",
       "    </tr>\n",
       "    <tr>\n",
       "      <th>4</th>\n",
       "      <td>F</td>\n",
       "    </tr>\n",
       "  </tbody>\n",
       "</table>\n",
       "</div>"
      ],
      "text/plain": [
       "  Gender\n",
       "0      F\n",
       "1      M\n",
       "2      F\n",
       "3      M\n",
       "4      F"
      ]
     },
     "execution_count": 2,
     "metadata": {},
     "output_type": "execute_result"
    }
   ],
   "source": [
    "# produce random indexes\n",
    "np.random.seed(7)\n",
    "rand_indices = np.random.randint(0, 2, 1000)\n",
    "# generate random list of 'M' and 'F'\n",
    "gender = ['M', 'F']\n",
    "gender_list = [ [gender[k]] for k in rand_indices]\n",
    "# create DataFrame\n",
    "df = pd.DataFrame(gender_list, columns=['Gender'])\n",
    "df.head()"
   ]
  },
  {
   "cell_type": "markdown",
   "metadata": {},
   "source": [
    "### Goal: Replace Male ('M') by 0 and Female ('F') by 1\n",
    "\n",
    "Time your code using \n",
    "```python\n",
    "%timeit one_line_statement\n",
    "```\n",
    "Or for an entire cell\n",
    "```python\n",
    "%%timeit\n",
    " line_statement...\n",
    "```"
   ]
  },
  {
   "cell_type": "markdown",
   "metadata": {},
   "source": [
    "### Solution 1 (It works but not great)"
   ]
  },
  {
   "cell_type": "code",
   "execution_count": 3,
   "metadata": {},
   "outputs": [],
   "source": [
    "df = pd.DataFrame(gender_list, columns=['Gender'])"
   ]
  },
  {
   "cell_type": "code",
   "execution_count": 4,
   "metadata": {},
   "outputs": [
    {
     "name": "stdout",
     "output_type": "stream",
     "text": [
      "3.62 ms ± 309 µs per loop (mean ± std. dev. of 7 runs, 100 loops each)\n"
     ]
    }
   ],
   "source": [
    "%%timeit\n",
    "# SHOULD give SettingWithCopyWarning (double indexing, get Gender column then boolean)\n",
    "# Still performs assignment correctly\n",
    "df.Gender[df.Gender == 'M'] = 0\n",
    "df.Gender[df.Gender == 'F'] = 1"
   ]
  },
  {
   "cell_type": "markdown",
   "metadata": {},
   "source": [
    "### Solution 2 (Don't do it!)"
   ]
  },
  {
   "cell_type": "code",
   "execution_count": 25,
   "metadata": {},
   "outputs": [],
   "source": [
    "df = pd.DataFrame(gender_list, columns=['Gender'])"
   ]
  },
  {
   "cell_type": "code",
   "execution_count": 26,
   "metadata": {},
   "outputs": [
    {
     "name": "stdout",
     "output_type": "stream",
     "text": [
      "3.31 ms ± 130 µs per loop (mean ± std. dev. of 7 runs, 100 loops each)\n"
     ]
    }
   ],
   "source": [
    "%%timeit\n",
    "# equivalent to solution 1, SHOULD give SettingWithCopyWarning but works\n",
    "df.loc[:,'Gender'][df.Gender == 'M'] = 0\n",
    "df.loc[:,'Gender'][df.Gender == 'F'] = 1"
   ]
  },
  {
   "cell_type": "markdown",
   "metadata": {},
   "source": [
    "### Solution 3 (Don't do even think about it!)"
   ]
  },
  {
   "cell_type": "code",
   "execution_count": 27,
   "metadata": {},
   "outputs": [],
   "source": [
    "df = pd.DataFrame(gender_list, columns=['Gender'])"
   ]
  },
  {
   "cell_type": "code",
   "execution_count": 28,
   "metadata": {},
   "outputs": [
    {
     "name": "stderr",
     "output_type": "stream",
     "text": [
      "/home/ceddie/anaconda3/envs/insight/lib/python3.6/site-packages/pandas/core/indexing.py:630: SettingWithCopyWarning: \n",
      "A value is trying to be set on a copy of a slice from a DataFrame.\n",
      "Try using .loc[row_indexer,col_indexer] = value instead\n",
      "\n",
      "See the caveats in the documentation: http://pandas.pydata.org/pandas-docs/stable/indexing.html#indexing-view-versus-copy\n",
      "  self.obj[item_labels[indexer[info_axis]]] = value\n"
     ]
    },
    {
     "name": "stdout",
     "output_type": "stream",
     "text": [
      "33.7 ms ± 2.42 ms per loop (mean ± std. dev. of 7 runs, 10 loops each)\n"
     ]
    }
   ],
   "source": [
    "%%timeit\n",
    "# The following statements produces SettingWithCopyWarning AND doesn't do the assigment\n",
    "# typical chain indexing, meaning indexing happens twice. It makes an assignment on a copy in this case!\n",
    "df[df.Gender == 'M'].loc[:,'Gender'] = 0\n",
    "df[df.Gender == 'F'].loc[:,'Gender'] = 1"
   ]
  },
  {
   "cell_type": "markdown",
   "metadata": {},
   "source": [
    "### Solution 4 (.apply does well here but it shouldn't TBD!)"
   ]
  },
  {
   "cell_type": "code",
   "execution_count": 45,
   "metadata": {},
   "outputs": [],
   "source": [
    "df = pd.DataFrame(gender_list, columns=['Gender'])"
   ]
  },
  {
   "cell_type": "code",
   "execution_count": 46,
   "metadata": {},
   "outputs": [],
   "source": [
    "# works, no warning but not the fastest (avoid using apply because it is slow in general)\n",
    "df['Gender'] = df['Gender'].apply(lambda x: 0 if x == 'M' else 1)"
   ]
  },
  {
   "cell_type": "code",
   "execution_count": 47,
   "metadata": {},
   "outputs": [
    {
     "name": "stdout",
     "output_type": "stream",
     "text": [
      "543 µs ± 29.9 µs per loop (mean ± std. dev. of 7 runs, 1000 loops each)\n"
     ]
    }
   ],
   "source": [
    "# works, no warning but not the fastest (avoid using apply because it is slow in general)\n",
    "%timeit df['Gender'] = df['Gender'].apply(lambda x: 0 if x == 'M' else 1)"
   ]
  },
  {
   "cell_type": "markdown",
   "metadata": {},
   "source": [
    "### Solution 5 (Correct and Preferred Solution)"
   ]
  },
  {
   "cell_type": "code",
   "execution_count": 5,
   "metadata": {},
   "outputs": [],
   "source": [
    "df = pd.DataFrame(gender_list, columns=['Gender'])"
   ]
  },
  {
   "cell_type": "code",
   "execution_count": 6,
   "metadata": {},
   "outputs": [
    {
     "name": "stdout",
     "output_type": "stream",
     "text": [
      "1.49 ms ± 43.5 µs per loop (mean ± std. dev. of 7 runs, 1000 loops each)\n"
     ]
    }
   ],
   "source": [
    "%timeit df.loc[df.Gender == 'M', 'Gender'] = 0"
   ]
  },
  {
   "cell_type": "code",
   "execution_count": 54,
   "metadata": {},
   "outputs": [],
   "source": [
    "# CORRECT SOLUTION single indexing. Produces correct ouput and fastest solution\n",
    "df.loc[df.Gender == 'M', 'Gender'] = 0\n",
    "df.loc[df.Gender == 'F', 'Gender'] = 1"
   ]
  },
  {
   "cell_type": "code",
   "execution_count": null,
   "metadata": {},
   "outputs": [],
   "source": []
  },
  {
   "cell_type": "code",
   "execution_count": null,
   "metadata": {},
   "outputs": [],
   "source": []
  },
  {
   "cell_type": "code",
   "execution_count": null,
   "metadata": {},
   "outputs": [],
   "source": []
  },
  {
   "cell_type": "markdown",
   "metadata": {},
   "source": [
    "# Case 2: Add new column using .map() and dictionaries"
   ]
  },
  {
   "cell_type": "markdown",
   "metadata": {},
   "source": [
    "Create a dataframe based on real data"
   ]
  },
  {
   "cell_type": "code",
   "execution_count": 7,
   "metadata": {},
   "outputs": [
    {
     "data": {
      "text/html": [
       "<div>\n",
       "<style scoped>\n",
       "    .dataframe tbody tr th:only-of-type {\n",
       "        vertical-align: middle;\n",
       "    }\n",
       "\n",
       "    .dataframe tbody tr th {\n",
       "        vertical-align: top;\n",
       "    }\n",
       "\n",
       "    .dataframe thead th {\n",
       "        text-align: right;\n",
       "    }\n",
       "</style>\n",
       "<table border=\"1\" class=\"dataframe\">\n",
       "  <thead>\n",
       "    <tr style=\"text-align: right;\">\n",
       "      <th></th>\n",
       "      <th>state</th>\n",
       "      <th>total</th>\n",
       "      <th>Obama</th>\n",
       "      <th>Romney</th>\n",
       "      <th>winner</th>\n",
       "      <th>voters</th>\n",
       "    </tr>\n",
       "  </thead>\n",
       "  <tbody>\n",
       "    <tr>\n",
       "      <th>Adams</th>\n",
       "      <td>PA</td>\n",
       "      <td>41973</td>\n",
       "      <td>35.4823</td>\n",
       "      <td>63.112</td>\n",
       "      <td>Romney</td>\n",
       "      <td>61156</td>\n",
       "    </tr>\n",
       "    <tr>\n",
       "      <th>Allegheny</th>\n",
       "      <td>PA</td>\n",
       "      <td>614671</td>\n",
       "      <td>56.6402</td>\n",
       "      <td>42.1858</td>\n",
       "      <td>Obama</td>\n",
       "      <td>924351</td>\n",
       "    </tr>\n",
       "    <tr>\n",
       "      <th>Armstrong</th>\n",
       "      <td>PA</td>\n",
       "      <td>28322</td>\n",
       "      <td>30.697</td>\n",
       "      <td>67.9013</td>\n",
       "      <td>Romney</td>\n",
       "      <td>42147</td>\n",
       "    </tr>\n",
       "    <tr>\n",
       "      <th>Beaver</th>\n",
       "      <td>PA</td>\n",
       "      <td>80015</td>\n",
       "      <td>46.0326</td>\n",
       "      <td>52.6376</td>\n",
       "      <td>Romney</td>\n",
       "      <td>115157</td>\n",
       "    </tr>\n",
       "    <tr>\n",
       "      <th>Bedford</th>\n",
       "      <td>PA</td>\n",
       "      <td>21444</td>\n",
       "      <td>22.0575</td>\n",
       "      <td>76.9866</td>\n",
       "      <td>Romney</td>\n",
       "      <td>32189</td>\n",
       "    </tr>\n",
       "  </tbody>\n",
       "</table>\n",
       "</div>"
      ],
      "text/plain": [
       "          state   total    Obama   Romney  winner  voters\n",
       "Adams        PA   41973  35.4823   63.112  Romney   61156\n",
       "Allegheny    PA  614671  56.6402  42.1858   Obama  924351\n",
       "Armstrong    PA   28322   30.697  67.9013  Romney   42147\n",
       "Beaver       PA   80015  46.0326  52.6376  Romney  115157\n",
       "Bedford      PA   21444  22.0575  76.9866  Romney   32189"
      ]
     },
     "execution_count": 7,
     "metadata": {},
     "output_type": "execute_result"
    }
   ],
   "source": [
    "county_index  = ['Adams', 'Allegheny', 'Armstrong' ,  'Beaver' , 'Bedford']\n",
    "cols = ['state', 'total', 'Obama', 'Romney', 'winner', 'voters']\n",
    "\n",
    "state   = ['PA']*5\n",
    "total  = [  41973  ,  614671   ,  28322  ,  80015  ,  21444]\n",
    "Obama = [ 35.4823 ,  56.6402  ,  30.697 , 46.0326 , 22.0575]\n",
    "Romney = [ 63.112 ,  42.1858 ,  67.9013 , 52.6376 , 76.9866]\n",
    "winner =  ['Romney'  ,   'Obama'  ,  'Romney' ,  'Romney' ,  'Romney']\n",
    "voters =  [ 61156 ,   924351  ,   42147 ,  115157  ,  32189]\n",
    "\n",
    "election = pd.DataFrame(np.array([state, total, Obama, Romney, winner, voters]).T, index=county_index, columns=cols)\n",
    "election"
   ]
  },
  {
   "cell_type": "markdown",
   "metadata": {},
   "source": [
    "### Add a new column `color` that shows red or blue according to `winner`"
   ]
  },
  {
   "cell_type": "code",
   "execution_count": 8,
   "metadata": {},
   "outputs": [],
   "source": [
    "red_vs_blue = {'Obama':'blue', 'Romney':'red'}"
   ]
  },
  {
   "cell_type": "code",
   "execution_count": 9,
   "metadata": {},
   "outputs": [
    {
     "data": {
      "text/html": [
       "<div>\n",
       "<style scoped>\n",
       "    .dataframe tbody tr th:only-of-type {\n",
       "        vertical-align: middle;\n",
       "    }\n",
       "\n",
       "    .dataframe tbody tr th {\n",
       "        vertical-align: top;\n",
       "    }\n",
       "\n",
       "    .dataframe thead th {\n",
       "        text-align: right;\n",
       "    }\n",
       "</style>\n",
       "<table border=\"1\" class=\"dataframe\">\n",
       "  <thead>\n",
       "    <tr style=\"text-align: right;\">\n",
       "      <th></th>\n",
       "      <th>state</th>\n",
       "      <th>total</th>\n",
       "      <th>Obama</th>\n",
       "      <th>Romney</th>\n",
       "      <th>winner</th>\n",
       "      <th>voters</th>\n",
       "      <th>color</th>\n",
       "    </tr>\n",
       "  </thead>\n",
       "  <tbody>\n",
       "    <tr>\n",
       "      <th>Adams</th>\n",
       "      <td>PA</td>\n",
       "      <td>41973</td>\n",
       "      <td>35.4823</td>\n",
       "      <td>63.112</td>\n",
       "      <td>Romney</td>\n",
       "      <td>61156</td>\n",
       "      <td>red</td>\n",
       "    </tr>\n",
       "    <tr>\n",
       "      <th>Allegheny</th>\n",
       "      <td>PA</td>\n",
       "      <td>614671</td>\n",
       "      <td>56.6402</td>\n",
       "      <td>42.1858</td>\n",
       "      <td>Obama</td>\n",
       "      <td>924351</td>\n",
       "      <td>blue</td>\n",
       "    </tr>\n",
       "    <tr>\n",
       "      <th>Armstrong</th>\n",
       "      <td>PA</td>\n",
       "      <td>28322</td>\n",
       "      <td>30.697</td>\n",
       "      <td>67.9013</td>\n",
       "      <td>Romney</td>\n",
       "      <td>42147</td>\n",
       "      <td>red</td>\n",
       "    </tr>\n",
       "    <tr>\n",
       "      <th>Beaver</th>\n",
       "      <td>PA</td>\n",
       "      <td>80015</td>\n",
       "      <td>46.0326</td>\n",
       "      <td>52.6376</td>\n",
       "      <td>Romney</td>\n",
       "      <td>115157</td>\n",
       "      <td>red</td>\n",
       "    </tr>\n",
       "    <tr>\n",
       "      <th>Bedford</th>\n",
       "      <td>PA</td>\n",
       "      <td>21444</td>\n",
       "      <td>22.0575</td>\n",
       "      <td>76.9866</td>\n",
       "      <td>Romney</td>\n",
       "      <td>32189</td>\n",
       "      <td>red</td>\n",
       "    </tr>\n",
       "  </tbody>\n",
       "</table>\n",
       "</div>"
      ],
      "text/plain": [
       "          state   total    Obama   Romney  winner  voters color\n",
       "Adams        PA   41973  35.4823   63.112  Romney   61156   red\n",
       "Allegheny    PA  614671  56.6402  42.1858   Obama  924351  blue\n",
       "Armstrong    PA   28322   30.697  67.9013  Romney   42147   red\n",
       "Beaver       PA   80015  46.0326  52.6376  Romney  115157   red\n",
       "Bedford      PA   21444  22.0575  76.9866  Romney   32189   red"
      ]
     },
     "execution_count": 9,
     "metadata": {},
     "output_type": "execute_result"
    }
   ],
   "source": [
    "election['color'] = election['winner'].map(red_vs_blue)\n",
    "election"
   ]
  },
  {
   "cell_type": "code",
   "execution_count": null,
   "metadata": {},
   "outputs": [],
   "source": []
  },
  {
   "cell_type": "code",
   "execution_count": null,
   "metadata": {},
   "outputs": [],
   "source": []
  },
  {
   "cell_type": "code",
   "execution_count": null,
   "metadata": {},
   "outputs": [],
   "source": []
  },
  {
   "cell_type": "markdown",
   "metadata": {},
   "source": [
    "# Case 3: Input missing values"
   ]
  },
  {
   "cell_type": "markdown",
   "metadata": {},
   "source": [
    "Add another index (row) and leave total column at zero (i.e. missing)"
   ]
  },
  {
   "cell_type": "code",
   "execution_count": 10,
   "metadata": {},
   "outputs": [
    {
     "data": {
      "text/html": [
       "<div>\n",
       "<style scoped>\n",
       "    .dataframe tbody tr th:only-of-type {\n",
       "        vertical-align: middle;\n",
       "    }\n",
       "\n",
       "    .dataframe tbody tr th {\n",
       "        vertical-align: top;\n",
       "    }\n",
       "\n",
       "    .dataframe thead th {\n",
       "        text-align: right;\n",
       "    }\n",
       "</style>\n",
       "<table border=\"1\" class=\"dataframe\">\n",
       "  <thead>\n",
       "    <tr style=\"text-align: right;\">\n",
       "      <th></th>\n",
       "      <th>state</th>\n",
       "      <th>total</th>\n",
       "      <th>Obama</th>\n",
       "      <th>Romney</th>\n",
       "      <th>winner</th>\n",
       "      <th>voters</th>\n",
       "      <th>color</th>\n",
       "    </tr>\n",
       "  </thead>\n",
       "  <tbody>\n",
       "    <tr>\n",
       "      <th>Adams</th>\n",
       "      <td>PA</td>\n",
       "      <td>41973</td>\n",
       "      <td>35.4823</td>\n",
       "      <td>63.112</td>\n",
       "      <td>Romney</td>\n",
       "      <td>61156</td>\n",
       "      <td>red</td>\n",
       "    </tr>\n",
       "    <tr>\n",
       "      <th>Allegheny</th>\n",
       "      <td>PA</td>\n",
       "      <td>614671</td>\n",
       "      <td>56.6402</td>\n",
       "      <td>42.1858</td>\n",
       "      <td>Obama</td>\n",
       "      <td>924351</td>\n",
       "      <td>blue</td>\n",
       "    </tr>\n",
       "    <tr>\n",
       "      <th>Armstrong</th>\n",
       "      <td>PA</td>\n",
       "      <td>28322</td>\n",
       "      <td>30.697</td>\n",
       "      <td>67.9013</td>\n",
       "      <td>Romney</td>\n",
       "      <td>42147</td>\n",
       "      <td>red</td>\n",
       "    </tr>\n",
       "    <tr>\n",
       "      <th>Beaver</th>\n",
       "      <td>PA</td>\n",
       "      <td>80015</td>\n",
       "      <td>46.0326</td>\n",
       "      <td>52.6376</td>\n",
       "      <td>Romney</td>\n",
       "      <td>115157</td>\n",
       "      <td>red</td>\n",
       "    </tr>\n",
       "    <tr>\n",
       "      <th>Bedford</th>\n",
       "      <td>PA</td>\n",
       "      <td>21444</td>\n",
       "      <td>22.0575</td>\n",
       "      <td>76.9866</td>\n",
       "      <td>Romney</td>\n",
       "      <td>32189</td>\n",
       "      <td>red</td>\n",
       "    </tr>\n",
       "    <tr>\n",
       "      <th>wonderland</th>\n",
       "      <td>PA</td>\n",
       "      <td>0</td>\n",
       "      <td>33.5</td>\n",
       "      <td>66.5</td>\n",
       "      <td>Romney</td>\n",
       "      <td>45000</td>\n",
       "      <td>red</td>\n",
       "    </tr>\n",
       "  </tbody>\n",
       "</table>\n",
       "</div>"
      ],
      "text/plain": [
       "           state   total    Obama   Romney  winner  voters color\n",
       "Adams         PA   41973  35.4823   63.112  Romney   61156   red\n",
       "Allegheny     PA  614671  56.6402  42.1858   Obama  924351  blue\n",
       "Armstrong     PA   28322   30.697  67.9013  Romney   42147   red\n",
       "Beaver        PA   80015  46.0326  52.6376  Romney  115157   red\n",
       "Bedford       PA   21444  22.0575  76.9866  Romney   32189   red\n",
       "wonderland    PA       0     33.5     66.5  Romney   45000   red"
      ]
     },
     "execution_count": 10,
     "metadata": {},
     "output_type": "execute_result"
    }
   ],
   "source": [
    "election.loc['wonderland', :] = ['PA', 0, 33.5, 66.5, 'Romney', 45000, 'red']\n",
    "# make sure total is numeric\n",
    "election.total = pd.to_numeric(election.total)\n",
    "election"
   ]
  },
  {
   "cell_type": "markdown",
   "metadata": {},
   "source": [
    "### Again using .map() and dictionaries"
   ]
  },
  {
   "cell_type": "code",
   "execution_count": null,
   "metadata": {},
   "outputs": [],
   "source": [
    "# create mask\n",
    "mask_column = (election['total'] == 0)\n",
    "\n",
    "# create a serie with index as region and values as mean for that region\n",
    "s_group = election[~mask_column].groupby('winner')['total'].mean()"
   ]
  },
  {
   "cell_type": "code",
   "execution_count": null,
   "metadata": {},
   "outputs": [],
   "source": [
    "# to_dict() is optional, map() accepts series!\n",
    "election.loc[mask_column, 'total'] = election.loc[mask_column, 'winner'].map(s_group.to_dict())\n",
    "election"
   ]
  },
  {
   "cell_type": "markdown",
   "metadata": {
    "collapsed": true
   },
   "source": [
    "### Again but using transform\n",
    "PS: missing value must be Nan for transform to work!"
   ]
  },
  {
   "cell_type": "code",
   "execution_count": null,
   "metadata": {},
   "outputs": [],
   "source": [
    "# set last record of total to 0 again\n",
    "election.loc['wonderland', :] = ['PA', 0, 33.5, 66.5, 'Romney', 45000, 'red']\n",
    "# replace missing value with Nan value\n",
    "election.loc[election.total == 0, 'total'] = np.nan\n",
    "election"
   ]
  },
  {
   "cell_type": "code",
   "execution_count": null,
   "metadata": {},
   "outputs": [],
   "source": [
    "# Write a function that imputes mean\n",
    "def impute_mean(series):\n",
    "    return series.fillna(series.mean())"
   ]
  },
  {
   "cell_type": "code",
   "execution_count": null,
   "metadata": {},
   "outputs": [],
   "source": [
    "# replace Nan values with mean for each sub serie created by groupby\n",
    "election.total = election.groupby('winner')['total'].transform(impute_mean)\n",
    "election"
   ]
  },
  {
   "cell_type": "markdown",
   "metadata": {},
   "source": [
    "### Again using reindex()"
   ]
  },
  {
   "cell_type": "code",
   "execution_count": null,
   "metadata": {},
   "outputs": [],
   "source": [
    "# set last record of total to 0 again\n",
    "election.loc['wonderland', :] = ['PA', 0, 33.5, 66.5, 'Romney', 45000, 'red']"
   ]
  },
  {
   "cell_type": "code",
   "execution_count": null,
   "metadata": {},
   "outputs": [],
   "source": [
    "# create mask\n",
    "mask_column = (election['total'] == 0)\n",
    "\n",
    "# create a serie with index as region and values as mean for that region\n",
    "s_group = election[~mask_column].groupby('winner')['total'].mean()\n",
    "\n",
    "# index by labels hence \n",
    "# create a serie aligned with df[to_groupby].values order, it marks not found label as Nan hence\n",
    "# resulting serie has the same number of elements as in Dataframe\n",
    "#     mean_col = s_group[df[to_groupby].values].values\n",
    "\n",
    "# idiomatic way to do the same operation (above method is depreciated)\n",
    "mean_col = s_group.reindex(election['winner'].values).values\n",
    "\n",
    "# assign column equal to value with their mean determined by region\n",
    "# use mask_column on df and ndarray (it has to be an ndarray as opposed to a serie because\n",
    "# mask_column, the boolean indexer, does not have the same index as mean_col would have if it were left as a serie\n",
    "# (winner index vs county index)\n",
    "election.loc[mask_column, 'total'] = mean_col[mask_column]\n",
    "election"
   ]
  },
  {
   "cell_type": "code",
   "execution_count": null,
   "metadata": {},
   "outputs": [],
   "source": []
  }
 ],
 "metadata": {
  "kernelspec": {
   "display_name": "Python [conda env:insight]",
   "language": "python",
   "name": "conda-env-insight-py"
  },
  "language_info": {
   "codemirror_mode": {
    "name": "ipython",
    "version": 3
   },
   "file_extension": ".py",
   "mimetype": "text/x-python",
   "name": "python",
   "nbconvert_exporter": "python",
   "pygments_lexer": "ipython3",
   "version": "3.6.5"
  }
 },
 "nbformat": 4,
 "nbformat_minor": 2
}
