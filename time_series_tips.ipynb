{
 "cells": [
  {
   "cell_type": "markdown",
   "metadata": {},
   "source": [
    "## Convert timestamp duration from ns to days then to integer (optional)"
   ]
  },
  {
   "cell_type": "code",
   "execution_count": null,
   "metadata": {},
   "outputs": [],
   "source": [
    "# compute number of days between successive expiration dates\n",
    "df_uninter['delta_exp_date'] = (df_uninter.membership_expire_date - df_uninter.prev_exp_date) \\\n",
    "                                .astype('timedelta64[D]').astype('int64')\n",
    "\n",
    "# NOTE1: use .astype('timedelta64[D]') as opposed to .dt.days (much slower)"
   ]
  },
  {
   "cell_type": "markdown",
   "metadata": {},
   "source": [
    "## Truncate datetime\n",
    "Similar idea than above"
   ]
  },
  {
   "cell_type": "code",
   "execution_count": null,
   "metadata": {},
   "outputs": [],
   "source": [
    "# truncate datetime to day precision\n",
    "df_log.time_stamp = df_log.time_stamp.values.astype('<M8[D]')\n",
    "# using numpy is 3x faster\n",
    "# df_log.time_stamp = df_log.time_stamp.floor('D')"
   ]
  },
  {
   "cell_type": "markdown",
   "metadata": {},
   "source": [
    "## Delay-Substract"
   ]
  },
  {
   "cell_type": "code",
   "execution_count": null,
   "metadata": {},
   "outputs": [],
   "source": [
    "# forward transaction by one index for each user\n",
    "df_uninter['prev_exp_date'] = df_uninter.groupby('msno', sort=False).membership_expire_date.shift(periods=1)\n",
    "\n",
    "# NOTE: it is faster to use shift and make the difference rather than doing it in one line like this:\n",
    "# df_transac['delta_exp_date'] = df_transac.groupby('msno', sort=False).membership_expire_date.diff(periods=1)\n",
    "# operation on groupby() are expensive and diff() takes a long time compared to shift."
   ]
  },
  {
   "cell_type": "markdown",
   "metadata": {},
   "source": [
    "## Time grouper"
   ]
  },
  {
   "cell_type": "code",
   "execution_count": null,
   "metadata": {},
   "outputs": [],
   "source": [
    "# aggregate by 15 min window\n",
    "df15 = df.groupby(pd.Grouper(key='login_time', freq='15min')).login_count.count()"
   ]
  }
 ],
 "metadata": {
  "kernelspec": {
   "display_name": "Python [default]",
   "language": "python",
   "name": "python3"
  },
  "language_info": {
   "codemirror_mode": {
    "name": "ipython",
    "version": 3
   },
   "file_extension": ".py",
   "mimetype": "text/x-python",
   "name": "python",
   "nbconvert_exporter": "python",
   "pygments_lexer": "ipython3",
   "version": "3.6.5"
  }
 },
 "nbformat": 4,
 "nbformat_minor": 2
}
